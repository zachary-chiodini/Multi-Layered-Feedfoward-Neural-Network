{
 "cells": [
  {
   "cell_type": "markdown",
   "metadata": {},
   "source": [
    "<h1>Learning How to Read Handwritten Digits</h1>"
   ]
  },
  {
   "cell_type": "code",
   "execution_count": 1,
   "metadata": {},
   "outputs": [
    {
     "name": "stdout",
     "output_type": "stream",
     "text": [
      "importing Jupyter notebook from feedforwardneuralnetwork.ipynb\n"
     ]
    }
   ],
   "source": [
    "import numpy as np, import_ipynb\n",
    "import matplotlib.pyplot as plt\n",
    "from feedforwardneuralnetwork import FeedForwardNeuralNetwork"
   ]
  },
  {
   "cell_type": "code",
   "execution_count": 2,
   "metadata": {},
   "outputs": [
    {
     "data": {
      "text/plain": [
       "(60000, 785)"
      ]
     },
     "execution_count": 2,
     "metadata": {},
     "output_type": "execute_result"
    }
   ],
   "source": [
    "# loading MNIST training data\n",
    "train = np.loadtxt( 'mnist_train.csv', delimiter = ',', skiprows = 1 )\n",
    "train.shape"
   ]
  },
  {
   "cell_type": "code",
   "execution_count": 3,
   "metadata": {},
   "outputs": [
    {
     "data": {
      "text/plain": [
       "(784,)"
      ]
     },
     "execution_count": 3,
     "metadata": {},
     "output_type": "execute_result"
    }
   ],
   "source": [
    "# input vectors are flattened 28 x 28 pixel matrices\n",
    "# the network will have 784 features, one per pixel\n",
    "train[ 0, 1 : ].shape"
   ]
  },
  {
   "cell_type": "code",
   "execution_count": 4,
   "metadata": {},
   "outputs": [
    {
     "data": {
      "image/png": "[encoded data removed]",
      "text/plain": [
       "<Figure size 432x288 with 1 Axes>"
      ]
     },
     "metadata": {
      "needs_background": "light"
     },
     "output_type": "display_data"
    }
   ],
   "source": [
    "# reshaping and plotting the first input vector\n",
    "img = np.reshape( train[ 0, 1 : ], newshape = ( 28, 28 ) )\n",
    "plt.imshow( img )\n",
    "plt.show()"
   ]
  },
  {
   "cell_type": "code",
   "execution_count": 5,
   "metadata": {},
   "outputs": [
    {
     "data": {
      "text/plain": [
       "5.0"
      ]
     },
     "execution_count": 5,
     "metadata": {},
     "output_type": "execute_result"
    }
   ],
   "source": [
    "# classification for first input vector\n",
    "# the above plot is supposed to be a 5\n",
    "train[ 0, 0 ]"
   ]
  },
  {
   "cell_type": "code",
   "execution_count": 6,
   "metadata": {},
   "outputs": [
    {
     "data": {
      "text/plain": [
       "255.0"
      ]
     },
     "execution_count": 6,
     "metadata": {},
     "output_type": "execute_result"
    }
   ],
   "source": [
    "max( train[ 0, 1 : ] )"
   ]
  },
  {
   "cell_type": "code",
   "execution_count": 7,
   "metadata": {},
   "outputs": [],
   "source": [
    "# normalizing the input vectors\n",
    "train[ :, 1 : ] = train[ :, 1 : ] / 255"
   ]
  },
  {
   "cell_type": "code",
   "execution_count": 8,
   "metadata": {},
   "outputs": [
    {
     "data": {
      "text/plain": [
       "(60000, 784)"
      ]
     },
     "execution_count": 8,
     "metadata": {},
     "output_type": "execute_result"
    }
   ],
   "source": [
    "# input matrix\n",
    "X = train[ :, 1 : ]\n",
    "X.shape"
   ]
  },
  {
   "cell_type": "code",
   "execution_count": 9,
   "metadata": {},
   "outputs": [
    {
     "data": {
      "text/plain": [
       "(60000, 10)"
      ]
     },
     "execution_count": 9,
     "metadata": {},
     "output_type": "execute_result"
    }
   ],
   "source": [
    "# target matrix\n",
    "Y = np.ndarray( shape = ( len( train ), 10 ), dtype = np.float )\n",
    "for i, n in np.ndenumerate( train[ :, 0 ] ) :\n",
    "    vect = np.array( [ 0.0, 0.0, 0.0, 0.0, 0.0, 0.0, 0.0, 0.0, 0.0, 0.0 ], dtype = np.float )\n",
    "    vect[ int( n ) ] = 1.0\n",
    "    Y[ i ] = vect\n",
    "Y.shape"
   ]
  },
  {
   "cell_type": "code",
   "execution_count": 10,
   "metadata": {},
   "outputs": [
    {
     "data": {
      "text/plain": [
       "array([0., 0., 0., 0., 0., 1., 0., 0., 0., 0.])"
      ]
     },
     "execution_count": 10,
     "metadata": {},
     "output_type": "execute_result"
    }
   ],
   "source": [
    "# target and output vectors have 10 elements corresponding to the probability \n",
    "# that the corresponding input vector is each digit 0-9, after normalization\n",
    "# thus, the network will have 10 output nodes\n",
    "# the first target vector says that the first input vector has a probability of unity of being a 5\n",
    "Y[0]"
   ]
  },
  {
   "cell_type": "markdown",
   "metadata": {},
   "source": [
    "## Creating a new method to better display the model's predictions"
   ]
  },
  {
   "cell_type": "code",
   "execution_count": 11,
   "metadata": {},
   "outputs": [],
   "source": [
    "class FeedForwardNeuralNetwork( FeedForwardNeuralNetwork ) :\n",
    "    \n",
    "    def output( self, input_array ) :\n",
    "        '''\n",
    "        Convert the Forward Propagation Output to a More Readable Format\n",
    "        '''\n",
    "        def index_of_largest_number_in( array ) :\n",
    "            max_idx, max_num = 0, 0.0\n",
    "            for i in range( len( array ) ) :\n",
    "                if array[ i ] > max_num :\n",
    "                    max_idx, max_num = i, array[ i ]\n",
    "            return max_idx\n",
    "        def output_with_confidence( array ) :\n",
    "            idx = index_of_largest_number_in( array )\n",
    "            return idx, round( 100 * array[ idx ] / array.sum(), 2 )\n",
    "        \n",
    "        if input_array.shape[ 0 ] == 1 or len( input_array.shape ) == 1 :\n",
    "            img = np.reshape( input_array, newshape = ( 28, 28 ) )\n",
    "            plt.imshow( img )\n",
    "            plt.show()\n",
    "            return output_with_confidence( \n",
    "                self.forwardpropagation( input_array ) \n",
    "                )\n",
    "        return np.apply_along_axis( \n",
    "            func1d = output_with_confidence, \n",
    "            axis = 1, \n",
    "            arr = self.forwardpropagation( input_array ) \n",
    "            )"
   ]
  },
  {
   "cell_type": "code",
   "execution_count": 12,
   "metadata": {},
   "outputs": [
    {
     "name": "stdout",
     "output_type": "stream",
     "text": [
      "Maximum epoch encountered.\n"
     ]
    }
   ],
   "source": [
    "FFNN = FeedForwardNeuralNetwork( perceptrons_per_hidden_layer = [ 30 ] )\n",
    "FFNN.train( X, Y, learning_rate = 0.1, batch_size = 10, max_epoch = 10 )"
   ]
  },
  {
   "cell_type": "code",
   "execution_count": 13,
   "metadata": {},
   "outputs": [
    {
     "data": {
      "text/plain": [
       "5118.319927609555"
      ]
     },
     "execution_count": 13,
     "metadata": {},
     "output_type": "execute_result"
    }
   ],
   "source": [
    "FFNN.score"
   ]
  },
  {
   "cell_type": "code",
   "execution_count": 14,
   "metadata": {},
   "outputs": [
    {
     "data": {
      "text/plain": [
       "(10000, 785)"
      ]
     },
     "execution_count": 14,
     "metadata": {},
     "output_type": "execute_result"
    }
   ],
   "source": [
    "# loading MNIST test data\n",
    "test = np.loadtxt( 'mnist_test.csv', delimiter = ',', skiprows = 1 )\n",
    "test.shape"
   ]
  },
  {
   "cell_type": "code",
   "execution_count": 15,
   "metadata": {},
   "outputs": [],
   "source": [
    "# normalizing the data\n",
    "test[ :, 1 : ] = test[ :, 1 : ] / 255"
   ]
  },
  {
   "cell_type": "code",
   "execution_count": 16,
   "metadata": {},
   "outputs": [
    {
     "data": {
      "text/plain": [
       "(10000, 784)"
      ]
     },
     "execution_count": 16,
     "metadata": {},
     "output_type": "execute_result"
    }
   ],
   "source": [
    "# input matrix\n",
    "X = test[ :, 1 : ]\n",
    "X.shape"
   ]
  },
  {
   "cell_type": "code",
   "execution_count": 17,
   "metadata": {},
   "outputs": [
    {
     "data": {
      "text/plain": [
       "(10000,)"
      ]
     },
     "execution_count": 17,
     "metadata": {},
     "output_type": "execute_result"
    }
   ],
   "source": [
    "# true values\n",
    "Y = test[ :, 0 ]\n",
    "Y.shape"
   ]
  },
  {
   "cell_type": "markdown",
   "metadata": {},
   "source": [
    "## Let's run some tests"
   ]
  },
  {
   "cell_type": "code",
   "execution_count": 18,
   "metadata": {},
   "outputs": [
    {
     "data": {
      "image/png": "[encoded data removed]",
      "text/plain": [
       "<Figure size 432x288 with 1 Axes>"
      ]
     },
     "metadata": {
      "needs_background": "light"
     },
     "output_type": "display_data"
    },
    {
     "data": {
      "text/plain": [
       "(7, 99.14)"
      ]
     },
     "execution_count": 18,
     "metadata": {},
     "output_type": "execute_result"
    }
   ],
   "source": [
    "# The model is 99.14% sure that the plot below is of the number 7\n",
    "FFNN.output( X[0] )"
   ]
  },
  {
   "cell_type": "code",
   "execution_count": 19,
   "metadata": {},
   "outputs": [
    {
     "data": {
      "text/plain": [
       "7.0"
      ]
     },
     "execution_count": 19,
     "metadata": {},
     "output_type": "execute_result"
    }
   ],
   "source": [
    "Y[0] # The model is correct!"
   ]
  },
  {
   "cell_type": "code",
   "execution_count": 20,
   "metadata": {},
   "outputs": [
    {
     "data": {
      "image/png": "[encoded data removed]",
      "text/plain": [
       "<Figure size 432x288 with 1 Axes>"
      ]
     },
     "metadata": {
      "needs_background": "light"
     },
     "output_type": "display_data"
    },
    {
     "data": {
      "text/plain": [
       "(4, 95.52)"
      ]
     },
     "execution_count": 20,
     "metadata": {},
     "output_type": "execute_result"
    }
   ],
   "source": [
    "# The model is 95.52% sure that the plot below is of the number 4\n",
    "FFNN.output( X[4] )"
   ]
  },
  {
   "cell_type": "code",
   "execution_count": 21,
   "metadata": {},
   "outputs": [
    {
     "data": {
      "text/plain": [
       "4.0"
      ]
     },
     "execution_count": 21,
     "metadata": {},
     "output_type": "execute_result"
    }
   ],
   "source": [
    "Y[4] # The model is correct!"
   ]
  },
  {
   "cell_type": "code",
   "execution_count": 22,
   "metadata": {},
   "outputs": [
    {
     "data": {
      "image/png": "[encoded data removed]",
      "text/plain": [
       "<Figure size 432x288 with 1 Axes>"
      ]
     },
     "metadata": {
      "needs_background": "light"
     },
     "output_type": "display_data"
    },
    {
     "data": {
      "text/plain": [
       "(6, 79.0)"
      ]
     },
     "execution_count": 22,
     "metadata": {},
     "output_type": "execute_result"
    }
   ],
   "source": [
    "# The model is 79% sure that the plot below is of the number 6\n",
    "FFNN.output( X[8] )"
   ]
  },
  {
   "cell_type": "code",
   "execution_count": 23,
   "metadata": {},
   "outputs": [
    {
     "data": {
      "text/plain": [
       "5.0"
      ]
     },
     "execution_count": 23,
     "metadata": {},
     "output_type": "execute_result"
    }
   ],
   "source": [
    "Y[8] # The model is not correct, but I do not blame it"
   ]
  },
  {
   "cell_type": "markdown",
   "metadata": {},
   "source": [
    "## Let's run a final test"
   ]
  },
  {
   "cell_type": "code",
   "execution_count": 24,
   "metadata": {},
   "outputs": [
    {
     "data": {
      "text/plain": [
       "(70000, 784)"
      ]
     },
     "execution_count": 24,
     "metadata": {},
     "output_type": "execute_result"
    }
   ],
   "source": [
    "# combining training and test data\n",
    "X = np.concatenate( ( train[ :, 1 : ], test[ :, 1 : ] ) )\n",
    "X.shape"
   ]
  },
  {
   "cell_type": "code",
   "execution_count": 25,
   "metadata": {},
   "outputs": [
    {
     "data": {
      "text/plain": [
       "(70000, 10)"
      ]
     },
     "execution_count": 25,
     "metadata": {},
     "output_type": "execute_result"
    }
   ],
   "source": [
    "total = np.concatenate( ( train[ :, 0 ], test[ :, 0 ] ) )\n",
    "Y = np.ndarray( shape = ( len( total ), 10 ), dtype = np.float )\n",
    "for i, n in np.ndenumerate( total ) :\n",
    "    vect = np.array( [ 0.0, 0.0, 0.0, 0.0, 0.0, 0.0, 0.0, 0.0, 0.0, 0.0 ], dtype = np.float )\n",
    "    vect[ int( n ) ] = 1.0\n",
    "    Y[ i ] = vect\n",
    "Y.shape"
   ]
  },
  {
   "cell_type": "markdown",
   "metadata": {},
   "source": [
    "## K-Fold Cross Validation"
   ]
  },
  {
   "cell_type": "code",
   "execution_count": 26,
   "metadata": {},
   "outputs": [],
   "source": [
    "class FeedForwardNeuralNetwork( FeedForwardNeuralNetwork  ) :\n",
    "    \n",
    "    def kfold_cross_validation( self, X, Y, k, \n",
    "                                learning_rate = 1.0, convergence = 0.01, \n",
    "                                batch_size = 10, max_epoch = 200, max_time = 60 ) :\n",
    "        accuracy = 0.0\n",
    "        split = len( X ) // int( k )\n",
    "        shuffle = np.random.permutation( len( X ) )\n",
    "        X, Y = X[ shuffle ], Y[ shuffle ]\n",
    "        indices = np.arange( start = 0, stop = len( X ) )\n",
    "        for i in range( int( k ) ) :\n",
    "            train_left, test_indices, train_right = np.array_split( indices, [ i*split, ( i + 1 )*split ] )\n",
    "            train_indices = np.concatenate( ( train_left, train_right ) )\n",
    "            self.train( X[ train_indices ], Y[ train_indices ], \n",
    "                        learning_rate, convergence, batch_size, max_epoch, max_time )\n",
    "            accuracy += ( self.output( X[ test_indices ] )[ :, 0 ] == np.where( Y[ test_indices ] == 1 )[ 1 ] ).mean()\n",
    "        # average accuracy over k iterations\n",
    "        print( '{} fold cross validation'.format( k ) )\n",
    "        print( 'Accuracy: {}'.format( accuracy / k ) )\n",
    "        return"
   ]
  },
  {
   "cell_type": "code",
   "execution_count": 27,
   "metadata": {},
   "outputs": [
    {
     "name": "stdout",
     "output_type": "stream",
     "text": [
      "Maximum epoch encountered.\n",
      "Maximum epoch encountered.\n",
      "Maximum epoch encountered.\n",
      "Maximum epoch encountered.\n",
      "Maximum epoch encountered.\n",
      "5 fold cross validation\n",
      "Accuracy: 0.9418714285714286\n"
     ]
    }
   ],
   "source": [
    "# Training and testing model on all of the data\n",
    "FFNN = FeedForwardNeuralNetwork( perceptrons_per_hidden_layer = [ 30 ] )\n",
    "FFNN.kfold_cross_validation( X, Y, k = 5, learning_rate = 0.1, batch_size = 10, max_epoch = 10 )"
   ]
  }
 ],
 "metadata": {
  "kernelspec": {
   "display_name": "Python 3",
   "language": "python",
   "name": "python3"
  },
  "language_info": {
   "codemirror_mode": {
    "name": "ipython",
    "version": 3
   },
   "file_extension": ".py",
   "mimetype": "text/x-python",
   "name": "python",
   "nbconvert_exporter": "python",
   "pygments_lexer": "ipython3",
   "version": "3.8.3"
  }
 },
 "nbformat": 4,
 "nbformat_minor": 4
}
