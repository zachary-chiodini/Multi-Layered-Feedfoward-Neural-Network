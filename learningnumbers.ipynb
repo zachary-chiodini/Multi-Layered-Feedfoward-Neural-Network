{
 "cells": [
  {
   "cell_type": "code",
   "execution_count": 1,
   "metadata": {},
   "outputs": [
    {
     "name": "stdout",
     "output_type": "stream",
     "text": [
      "importing Jupyter notebook from feedforwardneuralnetwork.ipynb\n"
     ]
    }
   ],
   "source": [
    "import numpy as np, import_ipynb\n",
    "import matplotlib.pyplot as plt\n",
    "from feedforwardneuralnetwork import FeedForwardNeuralNetwork"
   ]
  },
  {
   "cell_type": "code",
   "execution_count": 2,
   "metadata": {},
   "outputs": [],
   "source": [
    "train = np.loadtxt( 'mnist_train.csv', delimiter = ',', skiprows = 1 )"
   ]
  },
  {
   "cell_type": "code",
   "execution_count": 3,
   "metadata": {},
   "outputs": [
    {
     "data": {
      "text/plain": [
       "60000"
      ]
     },
     "execution_count": 3,
     "metadata": {},
     "output_type": "execute_result"
    }
   ],
   "source": [
    "len( train )"
   ]
  },
  {
   "cell_type": "code",
   "execution_count": 4,
   "metadata": {},
   "outputs": [
    {
     "data": {
      "text/plain": [
       "5.0"
      ]
     },
     "execution_count": 4,
     "metadata": {},
     "output_type": "execute_result"
    }
   ],
   "source": [
    "train[ 0, 0 ]"
   ]
  },
  {
   "cell_type": "code",
   "execution_count": 5,
   "metadata": {},
   "outputs": [
    {
     "data": {
      "text/plain": [
       "(784,)"
      ]
     },
     "execution_count": 5,
     "metadata": {},
     "output_type": "execute_result"
    }
   ],
   "source": [
    "train[ 0, 1 : ].shape"
   ]
  },
  {
   "cell_type": "code",
   "execution_count": 6,
   "metadata": {},
   "outputs": [
    {
     "data": {
      "text/plain": [
       "255.0"
      ]
     },
     "execution_count": 6,
     "metadata": {},
     "output_type": "execute_result"
    }
   ],
   "source": [
    "max( train[ 0, 1 : ] )"
   ]
  },
  {
   "cell_type": "code",
   "execution_count": 7,
   "metadata": {},
   "outputs": [],
   "source": [
    "train[ :, 1 : ] = train[ :, 1 : ] / 255"
   ]
  },
  {
   "cell_type": "code",
   "execution_count": 8,
   "metadata": {},
   "outputs": [],
   "source": [
    "img = np.reshape( train[ 0, 1 : ], newshape = ( 28, 28 ) )"
   ]
  },
  {
   "cell_type": "code",
   "execution_count": 9,
   "metadata": {
    "scrolled": true
   },
   "outputs": [
    {
     "name": "stdout",
     "output_type": "stream",
     "text": [
      "\u001b[0m0.0\u001b[0m \u001b[0m0.0\u001b[0m \u001b[0m0.0\u001b[0m \u001b[0m0.0\u001b[0m \u001b[0m0.0\u001b[0m \u001b[0m0.0\u001b[0m \u001b[0m0.0\u001b[0m \u001b[0m0.0\u001b[0m \u001b[0m0.0\u001b[0m \u001b[0m0.0\u001b[0m \u001b[0m0.0\u001b[0m \u001b[0m0.0\u001b[0m \u001b[0m0.0\u001b[0m \u001b[0m0.0\u001b[0m \u001b[0m0.0\u001b[0m \u001b[0m0.0\u001b[0m \u001b[0m0.0\u001b[0m \u001b[0m0.0\u001b[0m \u001b[0m0.0\u001b[0m \u001b[0m0.0\u001b[0m \u001b[0m0.0\u001b[0m \u001b[0m0.0\u001b[0m \u001b[0m0.0\u001b[0m \u001b[0m0.0\u001b[0m \u001b[0m0.0\u001b[0m \u001b[0m0.0\u001b[0m \u001b[0m0.0\u001b[0m \u001b[0m0.0\u001b[0m \n",
      "\u001b[0m0.0\u001b[0m \u001b[0m0.0\u001b[0m \u001b[0m0.0\u001b[0m \u001b[0m0.0\u001b[0m \u001b[0m0.0\u001b[0m \u001b[0m0.0\u001b[0m \u001b[0m0.0\u001b[0m \u001b[0m0.0\u001b[0m \u001b[0m0.0\u001b[0m \u001b[0m0.0\u001b[0m \u001b[0m0.0\u001b[0m \u001b[0m0.0\u001b[0m \u001b[0m0.0\u001b[0m \u001b[0m0.0\u001b[0m \u001b[0m0.0\u001b[0m \u001b[0m0.0\u001b[0m \u001b[0m0.0\u001b[0m \u001b[0m0.0\u001b[0m \u001b[0m0.0\u001b[0m \u001b[0m0.0\u001b[0m \u001b[0m0.0\u001b[0m \u001b[0m0.0\u001b[0m \u001b[0m0.0\u001b[0m \u001b[0m0.0\u001b[0m \u001b[0m0.0\u001b[0m \u001b[0m0.0\u001b[0m \u001b[0m0.0\u001b[0m \u001b[0m0.0\u001b[0m \n",
      "\u001b[0m0.0\u001b[0m \u001b[0m0.0\u001b[0m \u001b[0m0.0\u001b[0m \u001b[0m0.0\u001b[0m \u001b[0m0.0\u001b[0m \u001b[0m0.0\u001b[0m \u001b[0m0.0\u001b[0m \u001b[0m0.0\u001b[0m \u001b[0m0.0\u001b[0m \u001b[0m0.0\u001b[0m \u001b[0m0.0\u001b[0m \u001b[0m0.0\u001b[0m \u001b[0m0.0\u001b[0m \u001b[0m0.0\u001b[0m \u001b[0m0.0\u001b[0m \u001b[0m0.0\u001b[0m \u001b[0m0.0\u001b[0m \u001b[0m0.0\u001b[0m \u001b[0m0.0\u001b[0m \u001b[0m0.0\u001b[0m \u001b[0m0.0\u001b[0m \u001b[0m0.0\u001b[0m \u001b[0m0.0\u001b[0m \u001b[0m0.0\u001b[0m \u001b[0m0.0\u001b[0m \u001b[0m0.0\u001b[0m \u001b[0m0.0\u001b[0m \u001b[0m0.0\u001b[0m \n",
      "\u001b[0m0.0\u001b[0m \u001b[0m0.0\u001b[0m \u001b[0m0.0\u001b[0m \u001b[0m0.0\u001b[0m \u001b[0m0.0\u001b[0m \u001b[0m0.0\u001b[0m \u001b[0m0.0\u001b[0m \u001b[0m0.0\u001b[0m \u001b[0m0.0\u001b[0m \u001b[0m0.0\u001b[0m \u001b[0m0.0\u001b[0m \u001b[0m0.0\u001b[0m \u001b[0m0.0\u001b[0m \u001b[0m0.0\u001b[0m \u001b[0m0.0\u001b[0m \u001b[0m0.0\u001b[0m \u001b[0m0.0\u001b[0m \u001b[0m0.0\u001b[0m \u001b[0m0.0\u001b[0m \u001b[0m0.0\u001b[0m \u001b[0m0.0\u001b[0m \u001b[0m0.0\u001b[0m \u001b[0m0.0\u001b[0m \u001b[0m0.0\u001b[0m \u001b[0m0.0\u001b[0m \u001b[0m0.0\u001b[0m \u001b[0m0.0\u001b[0m \u001b[0m0.0\u001b[0m \n",
      "\u001b[0m0.0\u001b[0m \u001b[0m0.0\u001b[0m \u001b[0m0.0\u001b[0m \u001b[0m0.0\u001b[0m \u001b[0m0.0\u001b[0m \u001b[0m0.0\u001b[0m \u001b[0m0.0\u001b[0m \u001b[0m0.0\u001b[0m \u001b[0m0.0\u001b[0m \u001b[0m0.0\u001b[0m \u001b[0m0.0\u001b[0m \u001b[0m0.0\u001b[0m \u001b[0m0.0\u001b[0m \u001b[0m0.0\u001b[0m \u001b[0m0.0\u001b[0m \u001b[0m0.0\u001b[0m \u001b[0m0.0\u001b[0m \u001b[0m0.0\u001b[0m \u001b[0m0.0\u001b[0m \u001b[0m0.0\u001b[0m \u001b[0m0.0\u001b[0m \u001b[0m0.0\u001b[0m \u001b[0m0.0\u001b[0m \u001b[0m0.0\u001b[0m \u001b[0m0.0\u001b[0m \u001b[0m0.0\u001b[0m \u001b[0m0.0\u001b[0m \u001b[0m0.0\u001b[0m \n",
      "\u001b[0m0.0\u001b[0m \u001b[0m0.0\u001b[0m \u001b[0m0.0\u001b[0m \u001b[0m0.0\u001b[0m \u001b[0m0.0\u001b[0m \u001b[0m0.0\u001b[0m \u001b[0m0.0\u001b[0m \u001b[0m0.0\u001b[0m \u001b[0m0.0\u001b[0m \u001b[0m0.0\u001b[0m \u001b[0m0.0\u001b[0m \u001b[0m0.0\u001b[0m \u001b[94m0.0\u001b[0m \u001b[94m0.1\u001b[0m \u001b[94m0.1\u001b[0m \u001b[94m0.1\u001b[0m \u001b[94m0.5\u001b[0m \u001b[94m0.5\u001b[0m \u001b[94m0.7\u001b[0m \u001b[94m0.1\u001b[0m \u001b[94m0.7\u001b[0m \u001b[94m1.0\u001b[0m \u001b[94m1.0\u001b[0m \u001b[94m0.5\u001b[0m \u001b[0m0.0\u001b[0m \u001b[0m0.0\u001b[0m \u001b[0m0.0\u001b[0m \u001b[0m0.0\u001b[0m \n",
      "\u001b[0m0.0\u001b[0m \u001b[0m0.0\u001b[0m \u001b[0m0.0\u001b[0m \u001b[0m0.0\u001b[0m \u001b[0m0.0\u001b[0m \u001b[0m0.0\u001b[0m \u001b[0m0.0\u001b[0m \u001b[0m0.0\u001b[0m \u001b[94m0.1\u001b[0m \u001b[94m0.1\u001b[0m \u001b[94m0.4\u001b[0m \u001b[94m0.6\u001b[0m \u001b[94m0.7\u001b[0m \u001b[94m1.0\u001b[0m \u001b[94m1.0\u001b[0m \u001b[94m1.0\u001b[0m \u001b[94m1.0\u001b[0m \u001b[94m1.0\u001b[0m \u001b[94m0.9\u001b[0m \u001b[94m0.7\u001b[0m \u001b[94m1.0\u001b[0m \u001b[94m0.9\u001b[0m \u001b[94m0.8\u001b[0m \u001b[94m0.3\u001b[0m \u001b[0m0.0\u001b[0m \u001b[0m0.0\u001b[0m \u001b[0m0.0\u001b[0m \u001b[0m0.0\u001b[0m \n",
      "\u001b[0m0.0\u001b[0m \u001b[0m0.0\u001b[0m \u001b[0m0.0\u001b[0m \u001b[0m0.0\u001b[0m \u001b[0m0.0\u001b[0m \u001b[0m0.0\u001b[0m \u001b[0m0.0\u001b[0m \u001b[94m0.2\u001b[0m \u001b[94m0.9\u001b[0m \u001b[94m1.0\u001b[0m \u001b[94m1.0\u001b[0m \u001b[94m1.0\u001b[0m \u001b[94m1.0\u001b[0m \u001b[94m1.0\u001b[0m \u001b[94m1.0\u001b[0m \u001b[94m1.0\u001b[0m \u001b[94m1.0\u001b[0m \u001b[94m1.0\u001b[0m \u001b[94m0.4\u001b[0m \u001b[94m0.3\u001b[0m \u001b[94m0.3\u001b[0m \u001b[94m0.2\u001b[0m \u001b[94m0.2\u001b[0m \u001b[0m0.0\u001b[0m \u001b[0m0.0\u001b[0m \u001b[0m0.0\u001b[0m \u001b[0m0.0\u001b[0m \u001b[0m0.0\u001b[0m \n",
      "\u001b[0m0.0\u001b[0m \u001b[0m0.0\u001b[0m \u001b[0m0.0\u001b[0m \u001b[0m0.0\u001b[0m \u001b[0m0.0\u001b[0m \u001b[0m0.0\u001b[0m \u001b[0m0.0\u001b[0m \u001b[94m0.1\u001b[0m \u001b[94m0.9\u001b[0m \u001b[94m1.0\u001b[0m \u001b[94m1.0\u001b[0m \u001b[94m1.0\u001b[0m \u001b[94m1.0\u001b[0m \u001b[94m1.0\u001b[0m \u001b[94m0.8\u001b[0m \u001b[94m0.7\u001b[0m \u001b[94m1.0\u001b[0m \u001b[94m0.9\u001b[0m \u001b[0m0.0\u001b[0m \u001b[0m0.0\u001b[0m \u001b[0m0.0\u001b[0m \u001b[0m0.0\u001b[0m \u001b[0m0.0\u001b[0m \u001b[0m0.0\u001b[0m \u001b[0m0.0\u001b[0m \u001b[0m0.0\u001b[0m \u001b[0m0.0\u001b[0m \u001b[0m0.0\u001b[0m \n",
      "\u001b[0m0.0\u001b[0m \u001b[0m0.0\u001b[0m \u001b[0m0.0\u001b[0m \u001b[0m0.0\u001b[0m \u001b[0m0.0\u001b[0m \u001b[0m0.0\u001b[0m \u001b[0m0.0\u001b[0m \u001b[0m0.0\u001b[0m \u001b[94m0.3\u001b[0m \u001b[94m0.6\u001b[0m \u001b[94m0.4\u001b[0m \u001b[94m1.0\u001b[0m \u001b[94m1.0\u001b[0m \u001b[94m0.8\u001b[0m \u001b[94m0.0\u001b[0m \u001b[0m0.0\u001b[0m \u001b[94m0.2\u001b[0m \u001b[94m0.6\u001b[0m \u001b[0m0.0\u001b[0m \u001b[0m0.0\u001b[0m \u001b[0m0.0\u001b[0m \u001b[0m0.0\u001b[0m \u001b[0m0.0\u001b[0m \u001b[0m0.0\u001b[0m \u001b[0m0.0\u001b[0m \u001b[0m0.0\u001b[0m \u001b[0m0.0\u001b[0m \u001b[0m0.0\u001b[0m \n",
      "\u001b[0m0.0\u001b[0m \u001b[0m0.0\u001b[0m \u001b[0m0.0\u001b[0m \u001b[0m0.0\u001b[0m \u001b[0m0.0\u001b[0m \u001b[0m0.0\u001b[0m \u001b[0m0.0\u001b[0m \u001b[0m0.0\u001b[0m \u001b[0m0.0\u001b[0m \u001b[94m0.1\u001b[0m \u001b[94m0.0\u001b[0m \u001b[94m0.6\u001b[0m \u001b[94m1.0\u001b[0m \u001b[94m0.4\u001b[0m \u001b[0m0.0\u001b[0m \u001b[0m0.0\u001b[0m \u001b[0m0.0\u001b[0m \u001b[0m0.0\u001b[0m \u001b[0m0.0\u001b[0m \u001b[0m0.0\u001b[0m \u001b[0m0.0\u001b[0m \u001b[0m0.0\u001b[0m \u001b[0m0.0\u001b[0m \u001b[0m0.0\u001b[0m \u001b[0m0.0\u001b[0m \u001b[0m0.0\u001b[0m \u001b[0m0.0\u001b[0m \u001b[0m0.0\u001b[0m \n",
      "\u001b[0m0.0\u001b[0m \u001b[0m0.0\u001b[0m \u001b[0m0.0\u001b[0m \u001b[0m0.0\u001b[0m \u001b[0m0.0\u001b[0m \u001b[0m0.0\u001b[0m \u001b[0m0.0\u001b[0m \u001b[0m0.0\u001b[0m \u001b[0m0.0\u001b[0m \u001b[0m0.0\u001b[0m \u001b[0m0.0\u001b[0m \u001b[94m0.5\u001b[0m \u001b[94m1.0\u001b[0m \u001b[94m0.7\u001b[0m \u001b[94m0.0\u001b[0m \u001b[0m0.0\u001b[0m \u001b[0m0.0\u001b[0m \u001b[0m0.0\u001b[0m \u001b[0m0.0\u001b[0m \u001b[0m0.0\u001b[0m \u001b[0m0.0\u001b[0m \u001b[0m0.0\u001b[0m \u001b[0m0.0\u001b[0m \u001b[0m0.0\u001b[0m \u001b[0m0.0\u001b[0m \u001b[0m0.0\u001b[0m \u001b[0m0.0\u001b[0m \u001b[0m0.0\u001b[0m \n",
      "\u001b[0m0.0\u001b[0m \u001b[0m0.0\u001b[0m \u001b[0m0.0\u001b[0m \u001b[0m0.0\u001b[0m \u001b[0m0.0\u001b[0m \u001b[0m0.0\u001b[0m \u001b[0m0.0\u001b[0m \u001b[0m0.0\u001b[0m \u001b[0m0.0\u001b[0m \u001b[0m0.0\u001b[0m \u001b[0m0.0\u001b[0m \u001b[94m0.0\u001b[0m \u001b[94m0.7\u001b[0m \u001b[94m1.0\u001b[0m \u001b[94m0.3\u001b[0m \u001b[0m0.0\u001b[0m \u001b[0m0.0\u001b[0m \u001b[0m0.0\u001b[0m \u001b[0m0.0\u001b[0m \u001b[0m0.0\u001b[0m \u001b[0m0.0\u001b[0m \u001b[0m0.0\u001b[0m \u001b[0m0.0\u001b[0m \u001b[0m0.0\u001b[0m \u001b[0m0.0\u001b[0m \u001b[0m0.0\u001b[0m \u001b[0m0.0\u001b[0m \u001b[0m0.0\u001b[0m \n",
      "\u001b[0m0.0\u001b[0m \u001b[0m0.0\u001b[0m \u001b[0m0.0\u001b[0m \u001b[0m0.0\u001b[0m \u001b[0m0.0\u001b[0m \u001b[0m0.0\u001b[0m \u001b[0m0.0\u001b[0m \u001b[0m0.0\u001b[0m \u001b[0m0.0\u001b[0m \u001b[0m0.0\u001b[0m \u001b[0m0.0\u001b[0m \u001b[0m0.0\u001b[0m \u001b[94m0.1\u001b[0m \u001b[94m0.9\u001b[0m \u001b[94m0.9\u001b[0m \u001b[94m0.6\u001b[0m \u001b[94m0.4\u001b[0m \u001b[94m0.0\u001b[0m \u001b[0m0.0\u001b[0m \u001b[0m0.0\u001b[0m \u001b[0m0.0\u001b[0m \u001b[0m0.0\u001b[0m \u001b[0m0.0\u001b[0m \u001b[0m0.0\u001b[0m \u001b[0m0.0\u001b[0m \u001b[0m0.0\u001b[0m \u001b[0m0.0\u001b[0m \u001b[0m0.0\u001b[0m \n",
      "\u001b[0m0.0\u001b[0m \u001b[0m0.0\u001b[0m \u001b[0m0.0\u001b[0m \u001b[0m0.0\u001b[0m \u001b[0m0.0\u001b[0m \u001b[0m0.0\u001b[0m \u001b[0m0.0\u001b[0m \u001b[0m0.0\u001b[0m \u001b[0m0.0\u001b[0m \u001b[0m0.0\u001b[0m \u001b[0m0.0\u001b[0m \u001b[0m0.0\u001b[0m \u001b[0m0.0\u001b[0m \u001b[94m0.3\u001b[0m \u001b[94m0.9\u001b[0m \u001b[94m1.0\u001b[0m \u001b[94m1.0\u001b[0m \u001b[94m0.5\u001b[0m \u001b[94m0.1\u001b[0m \u001b[0m0.0\u001b[0m \u001b[0m0.0\u001b[0m \u001b[0m0.0\u001b[0m \u001b[0m0.0\u001b[0m \u001b[0m0.0\u001b[0m \u001b[0m0.0\u001b[0m \u001b[0m0.0\u001b[0m \u001b[0m0.0\u001b[0m \u001b[0m0.0\u001b[0m \n",
      "\u001b[0m0.0\u001b[0m \u001b[0m0.0\u001b[0m \u001b[0m0.0\u001b[0m \u001b[0m0.0\u001b[0m \u001b[0m0.0\u001b[0m \u001b[0m0.0\u001b[0m \u001b[0m0.0\u001b[0m \u001b[0m0.0\u001b[0m \u001b[0m0.0\u001b[0m \u001b[0m0.0\u001b[0m \u001b[0m0.0\u001b[0m \u001b[0m0.0\u001b[0m \u001b[0m0.0\u001b[0m \u001b[0m0.0\u001b[0m \u001b[94m0.2\u001b[0m \u001b[94m0.7\u001b[0m \u001b[94m1.0\u001b[0m \u001b[94m1.0\u001b[0m \u001b[94m0.6\u001b[0m \u001b[94m0.1\u001b[0m \u001b[0m0.0\u001b[0m \u001b[0m0.0\u001b[0m \u001b[0m0.0\u001b[0m \u001b[0m0.0\u001b[0m \u001b[0m0.0\u001b[0m \u001b[0m0.0\u001b[0m \u001b[0m0.0\u001b[0m \u001b[0m0.0\u001b[0m \n",
      "\u001b[0m0.0\u001b[0m \u001b[0m0.0\u001b[0m \u001b[0m0.0\u001b[0m \u001b[0m0.0\u001b[0m \u001b[0m0.0\u001b[0m \u001b[0m0.0\u001b[0m \u001b[0m0.0\u001b[0m \u001b[0m0.0\u001b[0m \u001b[0m0.0\u001b[0m \u001b[0m0.0\u001b[0m \u001b[0m0.0\u001b[0m \u001b[0m0.0\u001b[0m \u001b[0m0.0\u001b[0m \u001b[0m0.0\u001b[0m \u001b[0m0.0\u001b[0m \u001b[94m0.1\u001b[0m \u001b[94m0.4\u001b[0m \u001b[94m1.0\u001b[0m \u001b[94m1.0\u001b[0m \u001b[94m0.7\u001b[0m \u001b[0m0.0\u001b[0m \u001b[0m0.0\u001b[0m \u001b[0m0.0\u001b[0m \u001b[0m0.0\u001b[0m \u001b[0m0.0\u001b[0m \u001b[0m0.0\u001b[0m \u001b[0m0.0\u001b[0m \u001b[0m0.0\u001b[0m \n",
      "\u001b[0m0.0\u001b[0m \u001b[0m0.0\u001b[0m \u001b[0m0.0\u001b[0m \u001b[0m0.0\u001b[0m \u001b[0m0.0\u001b[0m \u001b[0m0.0\u001b[0m \u001b[0m0.0\u001b[0m \u001b[0m0.0\u001b[0m \u001b[0m0.0\u001b[0m \u001b[0m0.0\u001b[0m \u001b[0m0.0\u001b[0m \u001b[0m0.0\u001b[0m \u001b[0m0.0\u001b[0m \u001b[0m0.0\u001b[0m \u001b[0m0.0\u001b[0m \u001b[0m0.0\u001b[0m \u001b[0m0.0\u001b[0m \u001b[94m1.0\u001b[0m \u001b[94m1.0\u001b[0m \u001b[94m1.0\u001b[0m \u001b[94m0.3\u001b[0m \u001b[0m0.0\u001b[0m \u001b[0m0.0\u001b[0m \u001b[0m0.0\u001b[0m \u001b[0m0.0\u001b[0m \u001b[0m0.0\u001b[0m \u001b[0m0.0\u001b[0m \u001b[0m0.0\u001b[0m \n",
      "\u001b[0m0.0\u001b[0m \u001b[0m0.0\u001b[0m \u001b[0m0.0\u001b[0m \u001b[0m0.0\u001b[0m \u001b[0m0.0\u001b[0m \u001b[0m0.0\u001b[0m \u001b[0m0.0\u001b[0m \u001b[0m0.0\u001b[0m \u001b[0m0.0\u001b[0m \u001b[0m0.0\u001b[0m \u001b[0m0.0\u001b[0m \u001b[0m0.0\u001b[0m \u001b[0m0.0\u001b[0m \u001b[0m0.0\u001b[0m \u001b[94m0.2\u001b[0m \u001b[94m0.5\u001b[0m \u001b[94m0.7\u001b[0m \u001b[94m1.0\u001b[0m \u001b[94m1.0\u001b[0m \u001b[94m0.8\u001b[0m \u001b[94m0.0\u001b[0m \u001b[0m0.0\u001b[0m \u001b[0m0.0\u001b[0m \u001b[0m0.0\u001b[0m \u001b[0m0.0\u001b[0m \u001b[0m0.0\u001b[0m \u001b[0m0.0\u001b[0m \u001b[0m0.0\u001b[0m \n",
      "\u001b[0m0.0\u001b[0m \u001b[0m0.0\u001b[0m \u001b[0m0.0\u001b[0m \u001b[0m0.0\u001b[0m \u001b[0m0.0\u001b[0m \u001b[0m0.0\u001b[0m \u001b[0m0.0\u001b[0m \u001b[0m0.0\u001b[0m \u001b[0m0.0\u001b[0m \u001b[0m0.0\u001b[0m \u001b[0m0.0\u001b[0m \u001b[0m0.0\u001b[0m \u001b[94m0.2\u001b[0m \u001b[94m0.6\u001b[0m \u001b[94m0.9\u001b[0m \u001b[94m1.0\u001b[0m \u001b[94m1.0\u001b[0m \u001b[94m1.0\u001b[0m \u001b[94m1.0\u001b[0m \u001b[94m0.7\u001b[0m \u001b[0m0.0\u001b[0m \u001b[0m0.0\u001b[0m \u001b[0m0.0\u001b[0m \u001b[0m0.0\u001b[0m \u001b[0m0.0\u001b[0m \u001b[0m0.0\u001b[0m \u001b[0m0.0\u001b[0m \u001b[0m0.0\u001b[0m \n",
      "\u001b[0m0.0\u001b[0m \u001b[0m0.0\u001b[0m \u001b[0m0.0\u001b[0m \u001b[0m0.0\u001b[0m \u001b[0m0.0\u001b[0m \u001b[0m0.0\u001b[0m \u001b[0m0.0\u001b[0m \u001b[0m0.0\u001b[0m \u001b[0m0.0\u001b[0m \u001b[0m0.0\u001b[0m \u001b[94m0.1\u001b[0m \u001b[94m0.4\u001b[0m \u001b[94m0.9\u001b[0m \u001b[94m1.0\u001b[0m \u001b[94m1.0\u001b[0m \u001b[94m1.0\u001b[0m \u001b[94m1.0\u001b[0m \u001b[94m0.8\u001b[0m \u001b[94m0.3\u001b[0m \u001b[0m0.0\u001b[0m \u001b[0m0.0\u001b[0m \u001b[0m0.0\u001b[0m \u001b[0m0.0\u001b[0m \u001b[0m0.0\u001b[0m \u001b[0m0.0\u001b[0m \u001b[0m0.0\u001b[0m \u001b[0m0.0\u001b[0m \u001b[0m0.0\u001b[0m \n",
      "\u001b[0m0.0\u001b[0m \u001b[0m0.0\u001b[0m \u001b[0m0.0\u001b[0m \u001b[0m0.0\u001b[0m \u001b[0m0.0\u001b[0m \u001b[0m0.0\u001b[0m \u001b[0m0.0\u001b[0m \u001b[0m0.0\u001b[0m \u001b[94m0.1\u001b[0m \u001b[94m0.3\u001b[0m \u001b[94m0.8\u001b[0m \u001b[94m1.0\u001b[0m \u001b[94m1.0\u001b[0m \u001b[94m1.0\u001b[0m \u001b[94m1.0\u001b[0m \u001b[94m0.8\u001b[0m \u001b[94m0.3\u001b[0m \u001b[94m0.0\u001b[0m \u001b[0m0.0\u001b[0m \u001b[0m0.0\u001b[0m \u001b[0m0.0\u001b[0m \u001b[0m0.0\u001b[0m \u001b[0m0.0\u001b[0m \u001b[0m0.0\u001b[0m \u001b[0m0.0\u001b[0m \u001b[0m0.0\u001b[0m \u001b[0m0.0\u001b[0m \u001b[0m0.0\u001b[0m \n",
      "\u001b[0m0.0\u001b[0m \u001b[0m0.0\u001b[0m \u001b[0m0.0\u001b[0m \u001b[0m0.0\u001b[0m \u001b[0m0.0\u001b[0m \u001b[0m0.0\u001b[0m \u001b[94m0.1\u001b[0m \u001b[94m0.7\u001b[0m \u001b[94m0.9\u001b[0m \u001b[94m1.0\u001b[0m \u001b[94m1.0\u001b[0m \u001b[94m1.0\u001b[0m \u001b[94m1.0\u001b[0m \u001b[94m0.8\u001b[0m \u001b[94m0.3\u001b[0m \u001b[94m0.0\u001b[0m \u001b[0m0.0\u001b[0m \u001b[0m0.0\u001b[0m \u001b[0m0.0\u001b[0m \u001b[0m0.0\u001b[0m \u001b[0m0.0\u001b[0m \u001b[0m0.0\u001b[0m \u001b[0m0.0\u001b[0m \u001b[0m0.0\u001b[0m \u001b[0m0.0\u001b[0m \u001b[0m0.0\u001b[0m \u001b[0m0.0\u001b[0m \u001b[0m0.0\u001b[0m \n",
      "\u001b[0m0.0\u001b[0m \u001b[0m0.0\u001b[0m \u001b[0m0.0\u001b[0m \u001b[0m0.0\u001b[0m \u001b[94m0.2\u001b[0m \u001b[94m0.7\u001b[0m \u001b[94m0.9\u001b[0m \u001b[94m1.0\u001b[0m \u001b[94m1.0\u001b[0m \u001b[94m1.0\u001b[0m \u001b[94m1.0\u001b[0m \u001b[94m1.0\u001b[0m \u001b[94m0.5\u001b[0m \u001b[94m0.0\u001b[0m \u001b[0m0.0\u001b[0m \u001b[0m0.0\u001b[0m \u001b[0m0.0\u001b[0m \u001b[0m0.0\u001b[0m \u001b[0m0.0\u001b[0m \u001b[0m0.0\u001b[0m \u001b[0m0.0\u001b[0m \u001b[0m0.0\u001b[0m \u001b[0m0.0\u001b[0m \u001b[0m0.0\u001b[0m \u001b[0m0.0\u001b[0m \u001b[0m0.0\u001b[0m \u001b[0m0.0\u001b[0m \u001b[0m0.0\u001b[0m \n",
      "\u001b[0m0.0\u001b[0m \u001b[0m0.0\u001b[0m \u001b[0m0.0\u001b[0m \u001b[0m0.0\u001b[0m \u001b[94m0.5\u001b[0m \u001b[94m1.0\u001b[0m \u001b[94m1.0\u001b[0m \u001b[94m1.0\u001b[0m \u001b[94m0.8\u001b[0m \u001b[94m0.5\u001b[0m \u001b[94m0.5\u001b[0m \u001b[94m0.1\u001b[0m \u001b[0m0.0\u001b[0m \u001b[0m0.0\u001b[0m \u001b[0m0.0\u001b[0m \u001b[0m0.0\u001b[0m \u001b[0m0.0\u001b[0m \u001b[0m0.0\u001b[0m \u001b[0m0.0\u001b[0m \u001b[0m0.0\u001b[0m \u001b[0m0.0\u001b[0m \u001b[0m0.0\u001b[0m \u001b[0m0.0\u001b[0m \u001b[0m0.0\u001b[0m \u001b[0m0.0\u001b[0m \u001b[0m0.0\u001b[0m \u001b[0m0.0\u001b[0m \u001b[0m0.0\u001b[0m \n",
      "\u001b[0m0.0\u001b[0m \u001b[0m0.0\u001b[0m \u001b[0m0.0\u001b[0m \u001b[0m0.0\u001b[0m \u001b[0m0.0\u001b[0m \u001b[0m0.0\u001b[0m \u001b[0m0.0\u001b[0m \u001b[0m0.0\u001b[0m \u001b[0m0.0\u001b[0m \u001b[0m0.0\u001b[0m \u001b[0m0.0\u001b[0m \u001b[0m0.0\u001b[0m \u001b[0m0.0\u001b[0m \u001b[0m0.0\u001b[0m \u001b[0m0.0\u001b[0m \u001b[0m0.0\u001b[0m \u001b[0m0.0\u001b[0m \u001b[0m0.0\u001b[0m \u001b[0m0.0\u001b[0m \u001b[0m0.0\u001b[0m \u001b[0m0.0\u001b[0m \u001b[0m0.0\u001b[0m \u001b[0m0.0\u001b[0m \u001b[0m0.0\u001b[0m \u001b[0m0.0\u001b[0m \u001b[0m0.0\u001b[0m \u001b[0m0.0\u001b[0m \u001b[0m0.0\u001b[0m \n",
      "\u001b[0m0.0\u001b[0m \u001b[0m0.0\u001b[0m \u001b[0m0.0\u001b[0m \u001b[0m0.0\u001b[0m \u001b[0m0.0\u001b[0m \u001b[0m0.0\u001b[0m \u001b[0m0.0\u001b[0m \u001b[0m0.0\u001b[0m \u001b[0m0.0\u001b[0m \u001b[0m0.0\u001b[0m \u001b[0m0.0\u001b[0m \u001b[0m0.0\u001b[0m \u001b[0m0.0\u001b[0m \u001b[0m0.0\u001b[0m \u001b[0m0.0\u001b[0m \u001b[0m0.0\u001b[0m \u001b[0m0.0\u001b[0m \u001b[0m0.0\u001b[0m \u001b[0m0.0\u001b[0m \u001b[0m0.0\u001b[0m \u001b[0m0.0\u001b[0m \u001b[0m0.0\u001b[0m \u001b[0m0.0\u001b[0m \u001b[0m0.0\u001b[0m \u001b[0m0.0\u001b[0m \u001b[0m0.0\u001b[0m \u001b[0m0.0\u001b[0m \u001b[0m0.0\u001b[0m \n",
      "\u001b[0m0.0\u001b[0m \u001b[0m0.0\u001b[0m \u001b[0m0.0\u001b[0m \u001b[0m0.0\u001b[0m \u001b[0m0.0\u001b[0m \u001b[0m0.0\u001b[0m \u001b[0m0.0\u001b[0m \u001b[0m0.0\u001b[0m \u001b[0m0.0\u001b[0m \u001b[0m0.0\u001b[0m \u001b[0m0.0\u001b[0m \u001b[0m0.0\u001b[0m \u001b[0m0.0\u001b[0m \u001b[0m0.0\u001b[0m \u001b[0m0.0\u001b[0m \u001b[0m0.0\u001b[0m \u001b[0m0.0\u001b[0m \u001b[0m0.0\u001b[0m \u001b[0m0.0\u001b[0m \u001b[0m0.0\u001b[0m \u001b[0m0.0\u001b[0m \u001b[0m0.0\u001b[0m \u001b[0m0.0\u001b[0m \u001b[0m0.0\u001b[0m \u001b[0m0.0\u001b[0m \u001b[0m0.0\u001b[0m \u001b[0m0.0\u001b[0m \u001b[0m0.0\u001b[0m \n"
     ]
    }
   ],
   "source": [
    "for i in range( img.shape[ 0 ] ) :\n",
    "    for j in range( img.shape[ 1 ] ) :\n",
    "        n = img[ i, j ]\n",
    "        if n > 0.0 :\n",
    "            color = 94\n",
    "        else :\n",
    "            color = 0\n",
    "        print( '\\x1b[{c}m{n}\\x1b[0m'.format( c = color, n = round( n, 1 ) ), end = ' '  )\n",
    "    print()"
   ]
  },
  {
   "cell_type": "code",
   "execution_count": 10,
   "metadata": {},
   "outputs": [
    {
     "data": {
      "image/png": "[encoded data removed]",
      "text/plain": [
       "<Figure size 432x288 with 1 Axes>"
      ]
     },
     "metadata": {
      "needs_background": "light"
     },
     "output_type": "display_data"
    }
   ],
   "source": [
    "plt.imshow( img )\n",
    "plt.show()"
   ]
  },
  {
   "cell_type": "code",
   "execution_count": 11,
   "metadata": {},
   "outputs": [
    {
     "data": {
      "text/plain": [
       "(60000, 784)"
      ]
     },
     "execution_count": 11,
     "metadata": {},
     "output_type": "execute_result"
    }
   ],
   "source": [
    "X = train[ :, 1 : ]\n",
    "X.shape"
   ]
  },
  {
   "cell_type": "code",
   "execution_count": 12,
   "metadata": {},
   "outputs": [],
   "source": [
    "Y = np.ndarray( shape = ( len( train ), 10 ), dtype = np.float )"
   ]
  },
  {
   "cell_type": "code",
   "execution_count": 13,
   "metadata": {},
   "outputs": [],
   "source": [
    "for i, n in np.ndenumerate( train[ :, 0 ] ) :\n",
    "    vect = np.array( [ 0.0, 0.0, 0.0, 0.0, 0.0, 0.0, 0.0, 0.0, 0.0, 0.0 ], dtype = np.float )\n",
    "    vect[ int( n ) ] = 1.0\n",
    "    Y[ i ] = vect"
   ]
  },
  {
   "cell_type": "code",
   "execution_count": 14,
   "metadata": {},
   "outputs": [
    {
     "data": {
      "text/plain": [
       "(60000, 10)"
      ]
     },
     "execution_count": 14,
     "metadata": {},
     "output_type": "execute_result"
    }
   ],
   "source": [
    "Y.shape"
   ]
  },
  {
   "cell_type": "code",
   "execution_count": 15,
   "metadata": {},
   "outputs": [
    {
     "data": {
      "text/plain": [
       "array([0., 0., 0., 0., 0., 1., 0., 0., 0., 0.])"
      ]
     },
     "execution_count": 15,
     "metadata": {},
     "output_type": "execute_result"
    }
   ],
   "source": [
    "Y[0]"
   ]
  },
  {
   "cell_type": "code",
   "execution_count": 16,
   "metadata": {},
   "outputs": [],
   "source": [
    "FFNN = FeedForwardNeuralNetwork( perceptrons_per_hidden_layer = [ 30 ] )"
   ]
  },
  {
   "cell_type": "code",
   "execution_count": 17,
   "metadata": {},
   "outputs": [
    {
     "name": "stdout",
     "output_type": "stream",
     "text": [
      "Maximum epoch encountered.\n"
     ]
    }
   ],
   "source": [
    "FFNN.train( X, Y, learning_rate = 0.1, batch_size = 10, max_epoch = 1 )"
   ]
  },
  {
   "cell_type": "code",
   "execution_count": 18,
   "metadata": {},
   "outputs": [
    {
     "data": {
      "text/plain": [
       "11858.217835164638"
      ]
     },
     "execution_count": 18,
     "metadata": {},
     "output_type": "execute_result"
    }
   ],
   "source": [
    "FFNN.score"
   ]
  },
  {
   "cell_type": "code",
   "execution_count": 19,
   "metadata": {},
   "outputs": [
    {
     "data": {
      "text/plain": [
       "array([[3.68190019e-02, 3.04793229e-03, 1.14180614e-02, ...,\n",
       "        1.14398759e-02, 1.48019900e-02, 9.96236313e-03],\n",
       "       [9.68669337e-01, 5.10112744e-04, 1.11941947e-02, ...,\n",
       "        2.06488595e-02, 1.31424095e-02, 8.93050152e-03],\n",
       "       [1.53249480e-03, 4.46597214e-03, 1.48721545e-02, ...,\n",
       "        8.97659511e-03, 9.28856465e-03, 9.24143534e-02],\n",
       "       ...,\n",
       "       [2.17270884e-02, 2.29241692e-03, 8.71677326e-04, ...,\n",
       "        1.34413353e-02, 2.53104575e-01, 4.11411124e-02],\n",
       "       [2.74843800e-01, 2.89710867e-03, 1.31578365e-02, ...,\n",
       "        1.05082811e-02, 4.97327512e-04, 3.32313839e-03],\n",
       "       [8.26878229e-02, 9.95273726e-03, 4.35658681e-02, ...,\n",
       "        1.69109188e-02, 7.86059399e-01, 1.86383803e-01]])"
      ]
     },
     "execution_count": 19,
     "metadata": {},
     "output_type": "execute_result"
    }
   ],
   "source": [
    "FFNN.forwardpropagation( X )"
   ]
  },
  {
   "cell_type": "code",
   "execution_count": 20,
   "metadata": {},
   "outputs": [],
   "source": [
    "class FeedForwardNeuralNetwork( FeedForwardNeuralNetwork ) :\n",
    "    \n",
    "    def output( self, input_array ) :\n",
    "        def index_of_largest_number_in( array ) :\n",
    "            max_idx, max_num = 0, 0.0\n",
    "            for i in range( len( array ) ) :\n",
    "                if array[ i ] > max_num :\n",
    "                    max_idx, max_num = i, array[ i ]\n",
    "            return max_idx\n",
    "        def output_with_confidence( array ) :\n",
    "            idx = index_of_largest_number_in( array )\n",
    "            return idx, round( 100 * array[ idx ] / array.sum(), 2 )\n",
    "        if input_array.shape[ 0 ] == 1 or len( input_array.shape ) == 1 :\n",
    "            img = np.reshape( input_array, newshape = ( 28, 28 ) )\n",
    "            plt.imshow( img )\n",
    "            plt.show()\n",
    "            return output_with_confidence( \n",
    "                self.forwardpropagation( input_array ) \n",
    "                )\n",
    "        return np.apply_along_axis( \n",
    "            func1d = output_with_confidence, \n",
    "            axis = 1, \n",
    "            arr = self.forwardpropagation( input_array ) \n",
    "            )"
   ]
  },
  {
   "cell_type": "code",
   "execution_count": 21,
   "metadata": {},
   "outputs": [],
   "source": [
    "FFNN = FeedForwardNeuralNetwork( perceptrons_per_hidden_layer = [ 30 ] )"
   ]
  },
  {
   "cell_type": "code",
   "execution_count": 22,
   "metadata": {},
   "outputs": [
    {
     "name": "stdout",
     "output_type": "stream",
     "text": [
      "Maximum epoch encountered.\n"
     ]
    }
   ],
   "source": [
    "FFNN.train( X, Y, learning_rate = 0.1, batch_size = 10, max_epoch = 1 )"
   ]
  },
  {
   "cell_type": "code",
   "execution_count": 23,
   "metadata": {},
   "outputs": [
    {
     "data": {
      "text/plain": [
       "11923.037297194389"
      ]
     },
     "execution_count": 23,
     "metadata": {},
     "output_type": "execute_result"
    }
   ],
   "source": [
    "FFNN.score"
   ]
  },
  {
   "cell_type": "code",
   "execution_count": 24,
   "metadata": {},
   "outputs": [],
   "source": [
    "test = np.loadtxt( 'mnist_test.csv', delimiter = ',', skiprows = 1 )"
   ]
  },
  {
   "cell_type": "code",
   "execution_count": 25,
   "metadata": {},
   "outputs": [
    {
     "data": {
      "text/plain": [
       "10000"
      ]
     },
     "execution_count": 25,
     "metadata": {},
     "output_type": "execute_result"
    }
   ],
   "source": [
    "len( test )"
   ]
  },
  {
   "cell_type": "code",
   "execution_count": 26,
   "metadata": {},
   "outputs": [],
   "source": [
    "test[ :, 1 : ] = test[ :, 1 : ] / 255"
   ]
  },
  {
   "cell_type": "code",
   "execution_count": 27,
   "metadata": {},
   "outputs": [
    {
     "data": {
      "text/plain": [
       "(10000, 784)"
      ]
     },
     "execution_count": 27,
     "metadata": {},
     "output_type": "execute_result"
    }
   ],
   "source": [
    "X = test[ :, 1 : ]\n",
    "X.shape"
   ]
  },
  {
   "cell_type": "code",
   "execution_count": 28,
   "metadata": {},
   "outputs": [],
   "source": [
    "Y = test[ :, 0 ]"
   ]
  },
  {
   "cell_type": "code",
   "execution_count": 29,
   "metadata": {},
   "outputs": [
    {
     "data": {
      "image/png": "[encoded data removed]",
      "text/plain": [
       "<Figure size 432x288 with 1 Axes>"
      ]
     },
     "metadata": {
      "needs_background": "light"
     },
     "output_type": "display_data"
    },
    {
     "data": {
      "text/plain": [
       "(3, 79.28)"
      ]
     },
     "execution_count": 29,
     "metadata": {},
     "output_type": "execute_result"
    }
   ],
   "source": [
    "FFNN.output( X[30] )"
   ]
  },
  {
   "cell_type": "code",
   "execution_count": 30,
   "metadata": {},
   "outputs": [
    {
     "data": {
      "text/plain": [
       "3.0"
      ]
     },
     "execution_count": 30,
     "metadata": {},
     "output_type": "execute_result"
    }
   ],
   "source": [
    "Y[30]"
   ]
  },
  {
   "cell_type": "code",
   "execution_count": 39,
   "metadata": {},
   "outputs": [],
   "source": [
    "X = np.concatenate( ( train[ :, 1 : ], test[ :, 1 : ] ) )"
   ]
  },
  {
   "cell_type": "code",
   "execution_count": 40,
   "metadata": {},
   "outputs": [
    {
     "data": {
      "text/plain": [
       "(70000, 784)"
      ]
     },
     "execution_count": 40,
     "metadata": {},
     "output_type": "execute_result"
    }
   ],
   "source": [
    "X.shape"
   ]
  },
  {
   "cell_type": "code",
   "execution_count": 91,
   "metadata": {},
   "outputs": [],
   "source": [
    "total = np.concatenate( ( train[ :, 0 ], test[ :, 0 ] ) )"
   ]
  },
  {
   "cell_type": "code",
   "execution_count": 92,
   "metadata": {},
   "outputs": [],
   "source": [
    "Y = np.ndarray( shape = ( len( total ), 10 ), dtype = np.float )"
   ]
  },
  {
   "cell_type": "code",
   "execution_count": 93,
   "metadata": {},
   "outputs": [],
   "source": [
    "for i, n in np.ndenumerate( total ) :\n",
    "    vect = np.array( [ 0.0, 0.0, 0.0, 0.0, 0.0, 0.0, 0.0, 0.0, 0.0, 0.0 ], dtype = np.float )\n",
    "    vect[ int( n ) ] = 1.0\n",
    "    Y[ i ] = vect"
   ]
  },
  {
   "cell_type": "code",
   "execution_count": 94,
   "metadata": {},
   "outputs": [
    {
     "data": {
      "text/plain": [
       "(70000, 10)"
      ]
     },
     "execution_count": 94,
     "metadata": {},
     "output_type": "execute_result"
    }
   ],
   "source": [
    "Y.shape"
   ]
  },
  {
   "cell_type": "code",
   "execution_count": 45,
   "metadata": {},
   "outputs": [
    {
     "data": {
      "text/plain": [
       "array([0., 0., 0., 0., 0., 1., 0., 0., 0., 0.])"
      ]
     },
     "execution_count": 45,
     "metadata": {},
     "output_type": "execute_result"
    }
   ],
   "source": [
    "Y[0]"
   ]
  },
  {
   "cell_type": "code",
   "execution_count": 100,
   "metadata": {},
   "outputs": [],
   "source": [
    "class FeedForwardNeuralNetwork( FeedForwardNeuralNetwork  ) :\n",
    "    \n",
    "    def kfold_cross_validation( self, X, Y, k, \n",
    "                                learning_rate = 1.0, convergence = 0.01, \n",
    "                                batch_size = 10, max_epoch = 200, max_time = 60 ) :\n",
    "        accuracy = 0.0\n",
    "        split = len( X ) // int( k )\n",
    "        shuffle = np.random.permutation( len( X ) )\n",
    "        X, Y = X[ shuffle ], Y[ shuffle ]\n",
    "        indices = np.arange( start = 0, stop = len( X ) )\n",
    "        for i in range( int( k ) ) :\n",
    "            train_left, test_indices, train_right = np.array_split( indices, [ i*split, ( i + 1 )*split ] )\n",
    "            train_indices = np.concatenate( ( train_left, train_right ) )\n",
    "            self.train( X[ train_indices ], Y[ train_indices ], \n",
    "                        learning_rate, convergence, batch_size, max_epoch, max_time )\n",
    "            accuracy += ( self.output( X[ test_indices ] )[ :, 0 ] == np.where( Y[ test_indices ] == 1 )[ 1 ] ).mean()\n",
    "        # average accuracy over k iterations\n",
    "        print( '{} fold cross validation'.format( k ) )\n",
    "        print( 'Accuracy: {}'.format( accuracy / k ) )\n",
    "        return"
   ]
  },
  {
   "cell_type": "code",
   "execution_count": 101,
   "metadata": {},
   "outputs": [],
   "source": [
    "FFNN = FeedForwardNeuralNetwork( perceptrons_per_hidden_layer = [ 30 ] )"
   ]
  },
  {
   "cell_type": "code",
   "execution_count": 102,
   "metadata": {},
   "outputs": [
    {
     "name": "stdout",
     "output_type": "stream",
     "text": [
      "Maximum epoch encountered.\n",
      "Maximum epoch encountered.\n",
      "Maximum epoch encountered.\n",
      "Maximum epoch encountered.\n",
      "Maximum epoch encountered.\n",
      "5 fold cross validation\n",
      "Average accuracy: 0.8872857142857142\n"
     ]
    }
   ],
   "source": [
    "FFNN.kfold_cross_validation( X, Y, k = 5, learning_rate = 0.1, batch_size = 10, max_epoch = 30 )"
   ]
  }
 ],
 "metadata": {
  "kernelspec": {
   "display_name": "Python 3",
   "language": "python",
   "name": "python3"
  },
  "language_info": {
   "codemirror_mode": {
    "name": "ipython",
    "version": 3
   },
   "file_extension": ".py",
   "mimetype": "text/x-python",
   "name": "python",
   "nbconvert_exporter": "python",
   "pygments_lexer": "ipython3",
   "version": "3.8.3"
  }
 },
 "nbformat": 4,
 "nbformat_minor": 4
}
