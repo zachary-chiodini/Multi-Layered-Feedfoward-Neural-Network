{
 "cells": [
  {
   "cell_type": "markdown",
   "metadata": {},
   "source": [
    "<h1 style=\"color:#F4EE00; font-family:cambria\"><i>Multi-Layered, Feedforward Neural Network</i></h1>"
   ]
  },
  {
   "cell_type": "markdown",
   "metadata": {},
   "source": [
    "<span style=\"color:#53C8FE; font-family:aparajita; font-size:18px\">\n",
    "    <i>This is a multi-layred, feedforward neural network written from scratch in Python.</i>\n",
    "</span>\n",
    "<hr>"
   ]
  },
  {
   "cell_type": "markdown",
   "metadata": {},
   "source": [
    "<h2 style=\"color:#F4EE00; font-family:cambria\"><i>Importing Libraries</i></h2>\n",
    "<hr>"
   ]
  },
  {
   "cell_type": "code",
   "execution_count": 1,
   "metadata": {},
   "outputs": [],
   "source": [
    "import numpy as np\n",
    "from typing import Any, Callable, List\n",
    "from nptyping import NDArray, Float64"
   ]
  },
  {
   "cell_type": "markdown",
   "metadata": {},
   "source": [
    "<h2 style=\"color:#F4EE00; font-family:cambria\"><i>Defining Data Structures</i></h2>\n",
    "<hr>"
   ]
  },
  {
   "cell_type": "markdown",
   "metadata": {},
   "source": [
    "<span style=\"color:#53C8FE; font-family:aparajita; font-size:18px\">\n",
    "    <i>Feature Matrix</i>\n",
    "</span>\n",
    "<br>\n",
    "<br>\n",
    "<span style=\"font-size:24px\">$\n",
    "\\color{blue}{X} = \\begin{bmatrix}\n",
    "    1 & \\color{blue}{x_{1,1}} & \\dots & \\color{blue}{x_{1,n}} \\\\\n",
    "    1 & \\color{blue}{x_{2,1}} & \\dots & \\color{blue}{x_{2,n}} \\\\\n",
    "    \\vdots & \\vdots & \\ddots & \\vdots \\\\\n",
    "    1 & \\color{blue}{x_{m,1}} & \\dots & \\color{blue}{x_{m,n}} \\\\\n",
    "\\end{bmatrix} = \\begin{bmatrix}\n",
    "    \\color{blue}{x_{1,0}} & \\color{blue}{x_{1,1}} & \\dots & \\color{blue}{x_{1,n}} \\\\\n",
    "    \\color{blue}{x_{2,0}} & \\color{blue}{x_{2,1}} & \\dots & \\color{blue}{x_{2,n}} \\\\\n",
    "    \\vdots & \\vdots & \\ddots & \\vdots \\\\\n",
    "    \\color{blue}{x_{m,0}} & \\color{blue}{x_{m,1}} & \\dots & \\color{blue}{x_{m,n}} \\\\\n",
    "\\end{bmatrix}\n",
    "$</span>"
   ]
  },
  {
   "cell_type": "code",
   "execution_count": 4,
   "metadata": {},
   "outputs": [],
   "source": [
    "Number_of_Examples = Any\n",
    "Number_of_Features_Plus_One = Any\n",
    "Feature_Matrix = NDArray[ ( Number_of_Examples, Number_of_Features_Plus_One ), Float64 ]"
   ]
  },
  {
   "cell_type": "markdown",
   "metadata": {},
   "source": [
    "<span style=\"color:#53C8FE; font-family:aparajita; font-size:18px\">\n",
    "    <i>Target Matrix</i>\n",
    "</span>\n",
    "<br>\n",
    "<br>\n",
    "<span style=\"font-size:24px\">$\n",
    "\\color{yellow}{Y} = \\begin{bmatrix}\n",
    "    \\color{yellow}{y_{1,1}} & \\color{yellow}{y_{1,2}} & \\dots & \\color{yellow}{y_{1,n}} \\\\\n",
    "    \\color{yellow}{y_{2,1}} & \\color{yellow}{y_{2,2}} & \\dots & \\color{yellow}{y_{2,n}} \\\\\n",
    "    \\vdots & \\vdots & \\ddots & \\vdots \\\\\n",
    "    \\color{yellow}{y_{m,1}} & \\color{yellow}{y_{m,2}} & \\dots & \\color{yellow}{y_{m,n}}\n",
    "\\end{bmatrix}\n",
    "$</span>"
   ]
  },
  {
   "cell_type": "code",
   "execution_count": 5,
   "metadata": {},
   "outputs": [],
   "source": [
    "Number_of_Target_Variables = Any\n",
    "Target_Matrix = NDArray[ ( Number_of_Examples, Number_of_Target_Variables ), Float64 ]"
   ]
  },
  {
   "cell_type": "markdown",
   "metadata": {},
   "source": [
    "<span style=\"color:#53C8FE; font-family:aparajita; font-size:18px\">\n",
    "    <i>Output</i>\n",
    "</span>\n",
    "<br>\n",
    "<br>\n",
    "<span style=\"font-size:24px\">$\n",
    "\\color{yellow}{\\hat{Y}} = \\begin{bmatrix}\n",
    "    \\color{yellow}{\\hat{y}_{1,1}} & \\color{yellow}{\\hat{y}_{1,2}} & \\dots & \\color{yellow}{\\hat{y}_{1,n}} \\\\\n",
    "    \\color{yellow}{\\hat{y}_{2,1}} & \\color{yellow}{\\hat{y}_{2,2}} & \\dots & \\color{yellow}{\\hat{y}_{2,n}} \\\\\n",
    "    \\vdots & \\vdots & \\ddots & \\vdots \\\\\n",
    "    \\color{yellow}{\\hat{y}_{m,1}} & \\color{yellow}{\\hat{y}_{m,2}} & \\dots & \\color{yellow}{\\hat{y}_{m,n}}\n",
    "\\end{bmatrix}\n",
    "$</span>"
   ]
  },
  {
   "cell_type": "code",
   "execution_count": 7,
   "metadata": {},
   "outputs": [],
   "source": [
    "Output_Matrix = NDArray[ ( Number_of_Examples, Number_of_Target_Variables ), Float64 ]"
   ]
  },
  {
   "cell_type": "markdown",
   "metadata": {},
   "source": [
    "<span style=\"color:#53C8FE; font-family:aparajita; font-size:18px\">\n",
    "    <i>Perceptron</i>\n",
    "</span>\n",
    "<br>\n",
    "<br>\n",
    "<span style=\"font-size:24px\">$\n",
    "\\color{green}{𝒫}^{(ℓ)}_{\\color{green}{k}} = \\begin{bmatrix}\n",
    "    \\color{green}{\\omega_{0,k}} \\\\\n",
    "    \\color{green}{\\omega_{1,k}} \\\\\n",
    "    \\vdots \\\\\n",
    "    \\color{green}{\\omega_{j,k}}\n",
    "\\end{bmatrix}\n",
    "$</span>"
   ]
  },
  {
   "cell_type": "code",
   "execution_count": 8,
   "metadata": {},
   "outputs": [],
   "source": [
    "Weight = Float64\n",
    "Number_of_Inputs_Plus_One = Any\n",
    "Perceptron = NDArray[ ( Number_of_Inputs_Plus_One, 1 ), Weight ]"
   ]
  },
  {
   "cell_type": "markdown",
   "metadata": {},
   "source": [
    "<span style=\"color:#53C8FE; font-family:aparajita; font-size:18px\">\n",
    "    <i>Layer</i>\n",
    "</span>\n",
    "<br>\n",
    "<br>\n",
    "<span style=\"font-size:24px\">$\n",
    "\\color{green}{\\Omega}^{(ℓ)} = \\begin{bmatrix}\n",
    "    \\color{green}{𝒫}^{(ℓ)}_{\\color{green}{1}} & \n",
    "    \\color{green}{𝒫}^{(ℓ)}_{\\color{green}{2}} & \n",
    "    \\dots & \n",
    "    \\color{green}{𝒫}^{(ℓ)}_{\\color{green}{k}}\n",
    "\\end{bmatrix} = \\begin{bmatrix}\n",
    "    \\color{green}{\\omega_{0,1}} & \\color{green}{\\omega_{0,2}} & \\dots & \\color{green}{\\omega_{0,k}} \\\\\n",
    "    \\color{green}{\\omega_{1,1}} & \\color{green}{\\omega_{1,2}} & \\dots & \\color{green}{\\omega_{1,k}} \\\\\n",
    "    \\vdots & \\vdots & \\ddots & \\vdots \\\\\n",
    "    \\color{green}{\\omega_{j,1}} & \\color{green}{\\omega_{j,2}} & \\dots & \\color{green}{\\omega_{j,k}}\n",
    "\\end{bmatrix}\n",
    "$</span>"
   ]
  },
  {
   "cell_type": "code",
   "execution_count": 9,
   "metadata": {},
   "outputs": [],
   "source": [
    "Number_of_Perceptrons = Any\n",
    "Layer = NDArray[ ( Number_of_Inputs_Plus_One, Number_of_Perceptrons ), Perceptron ]"
   ]
  },
  {
   "cell_type": "markdown",
   "metadata": {},
   "source": [
    "<span style=\"color:#53C8FE; font-family:aparajita; font-size:18px\">\n",
    "    <i>Neural Network</i>\n",
    "</span>\n",
    "<br>\n",
    "<br>\n",
    "<span style=\"font-size:24px\">$\n",
    "\\color{green}{𝒩}=\\begin{bmatrix}\n",
    "   \\color{green}{\\Omega}^{(1)} &\n",
    "   \\color{green}{\\Omega}^{(2)} & \n",
    "   \\dots & \n",
    "   \\color{green}{\\Omega}^{(ℓ)}\n",
    "\\end{bmatrix}\n",
    "$</span>"
   ]
  },
  {
   "cell_type": "code",
   "execution_count": 12,
   "metadata": {},
   "outputs": [],
   "source": [
    "Network = List[ Layer ]"
   ]
  },
  {
   "cell_type": "markdown",
   "metadata": {},
   "source": [
    "<h2 style=\"color:#F4EE00; font-family:cambria\"><i>Creating the Neural Network</i></h2>\n",
    "<hr>"
   ]
  },
  {
   "cell_type": "markdown",
   "metadata": {},
   "source": [
    "<span style=\"color:#53C8FE; font-family:aparajita; font-size:18px\">\n",
    "    <i>Initialization</i>\n",
    "</span>"
   ]
  },
  {
   "cell_type": "code",
   "execution_count": 68,
   "metadata": {},
   "outputs": [],
   "source": [
    "class FeedForwardNeuralNetwork :\n",
    "    \n",
    "    def __init__( self,\n",
    "        X : Feature_Matrix, \n",
    "        Y : Target_Matrix,\n",
    "        funk : Callable[ [ Float64 ], Float64 ] \\\n",
    "                 = lambda x : 1 / ( 1 + np.exp( -x ) ),\n",
    "        cost : Callable[ [ NDArray[ Float64 ] ], Float64 ] \\\n",
    "                 = lambda y1, y2 : np.square( y1 - y2 ).sum(),\n",
    "        hidden_layers : List[ int ] = []\n",
    "        ) -> None :\n",
    "        self.funk = funk\n",
    "        self.cost = cost\n",
    "        self.network : Network = []\n",
    "        self.input_layer : List[ str ] = []\n",
    "        self.initialize( X, Y, hidden_layers )\n",
    "        return\n",
    "    \n",
    "    def initialize( self, X, Y, hidden_layers ) -> None :\n",
    "        assert ( type( X ) == type( Y ) == np.ndarray ) and \\\n",
    "               ( X.dtype == Y.dtype == ( np.bool or np.int or np.float ) ) and \\\n",
    "               ( X.ndim == Y.ndim == 2 and len( X ) == len( Y ) ), \\\n",
    "               'Feature and target matrix must be 2D bool, int or float numpy arrays of equal length.'\n",
    "        self.input_layer = [ 'x{}'.format( i ) for i in range( X.shape[ 1 ] ) ]\n",
    "        inputs = len( self.input_layer )\n",
    "        for perceptrons in hidden_layers :\n",
    "            layer : Layer = np.random.rand( inputs + 1, perceptrons )\n",
    "            self.network.append( layer )\n",
    "            inputs = len( layer )\n",
    "        output_layer : Layer = np.random.rand( inputs + 1, Y.shape[ 1 ] )\n",
    "        self.network.append( output_layer )\n",
    "        return"
   ]
  },
  {
   "cell_type": "markdown",
   "metadata": {},
   "source": [
    "<span style=\"color:#53C8FE; font-family:aparajita; font-size:18px\">\n",
    "    <i>Forward Propagation</i>\n",
    "</span>\n",
    "<br>\n",
    "<br>\n",
    "<table align=\"left\">\n",
    "    <tr>\n",
    "        <td style=\"font-size:14px\">$\\color{blue}{Output Layer}$</td>\n",
    "        <td style=\"font-size:24px\">$\\color{blue}{ℒ}^{(ℓ)}=\n",
    "            \\color{red}{f}⊙(\\color{blue}{ℒ}^{(ℓ-1)}\\color{green}{\\Omega}^{ℓ})$</td>\n",
    "    </tr>\n",
    "    <tr>\n",
    "        <td style=\"font-size:14px\">$\\color{blue}{Hidden Layers}$</td>\n",
    "        <td style=\"font-size:24px\">\n",
    "            $\\color{blue}{ℒ}^{(ℓ-1)}=\\begin{bmatrix}\n",
    "                    1 & \\color{red}{f}⊙(\\color{blue}{ℒ}^{(ℓ-2)}\\color{green}{\\Omega}^{ℓ})\n",
    "                \\end{bmatrix}$\n",
    "        </td>\n",
    "    </tr>\n",
    "    <tr>\n",
    "        <td style=\"font-size:14px\">$\\color{blue}{Input Layer}$</td>\n",
    "        <td style=\"font-size:24px\">$\\color{blue}{ℒ}^{(0)} = \\color{blue}{X}$</td>\n",
    "    </tr>\n",
    "</table>"
   ]
  },
  {
   "cell_type": "code",
   "execution_count": 71,
   "metadata": {},
   "outputs": [],
   "source": [
    "class FeedForwardNeuralNetwork( FeedForwardNeuralNetwork  ) :\n",
    "    \n",
    "    def forwardpropagate( self, X : Feature_Matrix ) -> Output_Matrix :\n",
    "        L = X\n",
    "        for i in range( len( self.network ) - 1 ) :\n",
    "            L = np.concatenate(\n",
    "                np.ones( len( X ), 1 ),\n",
    "                self.funk( np.matmul( L, self.network[ i ] ) ),\n",
    "                axis = 1\n",
    "                )\n",
    "        return self.funk( np.matmul( L, self.network[ -1 ] ) )"
   ]
  },
  {
   "cell_type": "markdown",
   "metadata": {},
   "source": [
    "<span style=\"color:#53C8FE; font-family:aparajita; font-size:18px\">\n",
    "    <i>Training Algorithm (Backpropagation)</i>\n",
    "</span>\n",
    "<br>\n",
    "<br>\n",
    "<table align=\"left\">\n",
    "    <tr>\n",
    "        <td style=\"font-size:14px\">$\\color{blue}{Output Layer}$</td>\n",
    "        <td style=\"font-size:24px\">$\n",
    "        \\nabla^{(ℓ)}_{\\color{pink}{a}}\\color{pink}{C}= \\begin{bmatrix}\n",
    "            \\frac{\\partial \\color{pink}{C}}{\\partial \\color{pink}{a}^{(ℓ)}_{\\color{pink}{1}}} &\n",
    "            \\frac{\\partial \\color{pink}{C}}{\\partial \\color{pink}{a}^{(ℓ)}_{\\color{pink}{2}}} &\n",
    "            \\dots & \n",
    "            \\frac{\\partial \\color{pink}{C}}{\\partial \\color{pink}{a}^{(ℓ)}_{\\color{pink}{k}}} \n",
    "            \\end{bmatrix}\n",
    "        $</td>\n",
    "    </tr>\n",
    "</table>"
   ]
  },
  {
   "cell_type": "code",
   "execution_count": 13,
   "metadata": {},
   "outputs": [],
   "source": [
    "class FeedForwardNeuralNetwork( FeedForwardNeuralNetwork  ) :\n",
    "    \n",
    "    def finite_difference( self ) :\n",
    "        pass"
   ]
  },
  {
   "cell_type": "markdown",
   "metadata": {},
   "source": [
    "<span style=\"color:#53C8FE; font-family:aparajita; font-size:18px\">\n",
    "    <i>Training Algorithm (Backpropagation)</i>\n",
    "</span>\n",
    "<br>\n",
    "<br>\n",
    "<table align=\"left\">\n",
    "    <tr>\n",
    "        <td style=\"font-size:14px\">$\\color{blue}{Output Layer}$</td>\n",
    "        <td style=\"font-size:24px\">$\n",
    "        \\nabla^{(ℓ)}_{\\color{orange}{z}}\\color{pink}{C}=\n",
    "        (\\color{pink}{f}'⊙\\color{orange}{Z}[ℓ-1])⊙\\nabla^{(ℓ)}_{\\color{pink}{a}}\\color{pink}{C}⊙\\mathbf{1}_{j\\times k} \\\\\n",
    "        \\nabla^{(ℓ)}_{\\color{green}{\\Omega}}\\color{pink}{C}=\n",
    "        (\\color{pink}{A}[ℓ-1])^{T}⊙\\nabla^{(ℓ)}_{\\color{orange}{z}}\\color{pink}{C} \\\\\n",
    "        \\color{green}{𝒩}[ℓ-1] = \\color{green}{𝒩}[ℓ-1] - r\\nabla^{(ℓ)}_{\\color{green}{\\Omega}}\\color{pink}{C}\n",
    "        $</td>\n",
    "    </tr>\n",
    "    <tr>\n",
    "        <td style=\"font-size:14px\">$\\color{blue}{Containers}$</td>\n",
    "        <td style=\"font-size:24px\">\n",
    "            $\n",
    "            \\color{pink}{A}[ℓ-1] = \\color{blue}{ℒ}^{(ℓ)}\\\\\n",
    "            \\color{orange}{Z}[ℓ-1] = \\color{blue}{ℒ}^{(ℓ-1)}\\color{green}{\\Omega}^{(ℓ)}\n",
    "            $\n",
    "        </td>\n",
    "    </tr>\n",
    "</table>"
   ]
  },
  {
   "cell_type": "code",
   "execution_count": null,
   "metadata": {},
   "outputs": [],
   "source": []
  },
  {
   "cell_type": "markdown",
   "metadata": {},
   "source": [
    "<span style=\"color:#53C8FE; font-family:aparajita; font-size:18px\">\n",
    "    <i>Training Algorithm (Backpropagation)</i>\n",
    "</span>\n",
    "<br>\n",
    "<br>\n",
    "<table align=\"left\">\n",
    "    <tr>\n",
    "        <td style=\"font-size:14px\">$\\color{blue}{Hidden Layers}$</td>\n",
    "        <td style=\"font-size:24px\">\n",
    "            $\n",
    "            \\nabla^{(i)}_{\\color{orange}{z}}\\color{pink}{C}=\n",
    "            (\\color{pink}{f}'⊙\\color{orange}{Z}[i])⊙\\color{green}{\\Omega}^{(i+1)}(\\nabla^{(i+1)}_{\\color{orange}{z}}\\color{pink}{C})^{T} \\\\\n",
    "            \\nabla^{(ℓ)}_{\\color{green}{\\Omega}}\\color{pink}{C}=\n",
    "            (\\color{pink}{A}[i])^{T}⊙\\nabla^{(i)}_{\\color{orange}{z}}\\color{pink}{C} \\\\\n",
    "            \\color{green}{𝒩}[i] = \\color{green}{𝒩}[i] - r\\nabla^{(i)}_{\\color{green}{\\Omega}}\\color{pink}{C}\n",
    "            $\n",
    "        </td>\n",
    "    </tr>\n",
    "    <tr>\n",
    "        <td style=\"font-size:14px\">$\\color{blue}{Containers}$</td>\n",
    "        <td style=\"font-size:24px\">\n",
    "            $\n",
    "            \\color{pink}{A}[ℓ-1] = \\color{blue}{ℒ}^{(ℓ)}\\\\\n",
    "            \\color{orange}{Z}[ℓ-1] = \\color{blue}{ℒ}^{(ℓ-1)}\\color{green}{\\Omega}^{(ℓ)}\n",
    "            $\n",
    "        </td>\n",
    "    </tr>\n",
    "</table>"
   ]
  },
  {
   "cell_type": "code",
   "execution_count": null,
   "metadata": {},
   "outputs": [],
   "source": [
    "class FeedForwardNeuralNetwork( FeedForwardNeuralNetwork  ) :\n",
    "    \n",
    "    def train( self ) :\n",
    "        pass"
   ]
  }
 ],
 "metadata": {
  "kernelspec": {
   "display_name": "Python 3",
   "language": "python",
   "name": "python3"
  },
  "language_info": {
   "codemirror_mode": {
    "name": "ipython",
    "version": 3
   },
   "file_extension": ".py",
   "mimetype": "text/x-python",
   "name": "python",
   "nbconvert_exporter": "python",
   "pygments_lexer": "ipython3",
   "version": "3.8.3"
  }
 },
 "nbformat": 4,
 "nbformat_minor": 4
}
